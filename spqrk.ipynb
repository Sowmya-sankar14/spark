{
  "nbformat": 4,
  "nbformat_minor": 0,
  "metadata": {
    "colab": {
      "name": "spqrk.ipynb",
      "provenance": []
    },
    "kernelspec": {
      "name": "python3",
      "display_name": "Python 3"
    },
    "language_info": {
      "name": "python"
    }
  },
  "cells": [
    {
      "cell_type": "code",
      "execution_count": 1,
      "metadata": {
        "colab": {
          "base_uri": "https://localhost:8080/"
        },
        "id": "3-4US9-HZ_0O",
        "outputId": "1573f369-e4ee-4d7b-b477-c27ef82d97ed"
      },
      "outputs": [
        {
          "output_type": "stream",
          "name": "stdout",
          "text": [
            "Looking in indexes: https://pypi.org/simple, https://us-python.pkg.dev/colab-wheels/public/simple/\n",
            "Collecting pyspark\n",
            "  Downloading pyspark-3.3.0.tar.gz (281.3 MB)\n",
            "\u001b[K     |████████████████████████████████| 281.3 MB 44 kB/s \n",
            "\u001b[?25hCollecting py4j==0.10.9.5\n",
            "  Downloading py4j-0.10.9.5-py2.py3-none-any.whl (199 kB)\n",
            "\u001b[K     |████████████████████████████████| 199 kB 58.6 MB/s \n",
            "\u001b[?25hBuilding wheels for collected packages: pyspark\n",
            "  Building wheel for pyspark (setup.py) ... \u001b[?25l\u001b[?25hdone\n",
            "  Created wheel for pyspark: filename=pyspark-3.3.0-py2.py3-none-any.whl size=281764026 sha256=0e95d147fcf0d9c011defdec51b878db609887a1e6abf7a2a4e530144e0394ac\n",
            "  Stored in directory: /root/.cache/pip/wheels/7a/8e/1b/f73a52650d2e5f337708d9f6a1750d451a7349a867f928b885\n",
            "Successfully built pyspark\n",
            "Installing collected packages: py4j, pyspark\n",
            "Successfully installed py4j-0.10.9.5 pyspark-3.3.0\n"
          ]
        }
      ],
      "source": [
        "pip install pyspark"
      ]
    },
    {
      "cell_type": "markdown",
      "source": [
        "# 1. Read the given CSV file in a Hive table\n"
      ],
      "metadata": {
        "id": "Ir6hXWHkjOOx"
      }
    },
    {
      "cell_type": "code",
      "source": [
        "from google.colab import drive"
      ],
      "metadata": {
        "id": "z9WYGl7baCTc"
      },
      "execution_count": 1,
      "outputs": []
    },
    {
      "cell_type": "code",
      "source": [
        "drive.mount('/content/drive/')"
      ],
      "metadata": {
        "colab": {
          "base_uri": "https://localhost:8080/"
        },
        "id": "-TVtgFjKaXy2",
        "outputId": "0c652f53-ac19-4dd6-c4a8-c875ffa757f2"
      },
      "execution_count": 2,
      "outputs": [
        {
          "output_type": "stream",
          "name": "stdout",
          "text": [
            "Drive already mounted at /content/drive/; to attempt to forcibly remount, call drive.mount(\"/content/drive/\", force_remount=True).\n"
          ]
        }
      ]
    },
    {
      "cell_type": "code",
      "source": [
        "import numpy as np\n",
        "import pandas as pd\n",
        "import matplotlib.pyplot as plt\n",
        "import pyspark\n",
        "from pyspark.sql import SparkSession\n",
        "from pyspark.sql import Row\n",
        "appName= \"bosten\"\n",
        "master= \"local\""
      ],
      "metadata": {
        "id": "cBX64_mfaY_Q"
      },
      "execution_count": 3,
      "outputs": []
    },
    {
      "cell_type": "code",
      "source": [
        "df=pd.read_csv(\"/content/drive/MyDrive/boston.csv\")"
      ],
      "metadata": {
        "id": "jOa4YZ7HahGp"
      },
      "execution_count": 4,
      "outputs": []
    },
    {
      "cell_type": "code",
      "source": [
        "df.info()"
      ],
      "metadata": {
        "colab": {
          "base_uri": "https://localhost:8080/"
        },
        "id": "kArJM2SVallP",
        "outputId": "90fcaa7b-f5a1-4b08-d0b7-a2ebff5b54d5"
      },
      "execution_count": 5,
      "outputs": [
        {
          "output_type": "stream",
          "name": "stdout",
          "text": [
            "<class 'pandas.core.frame.DataFrame'>\n",
            "RangeIndex: 506 entries, 0 to 505\n",
            "Data columns (total 14 columns):\n",
            " #   Column  Non-Null Count  Dtype  \n",
            "---  ------  --------------  -----  \n",
            " 0   CRIM    506 non-null    float64\n",
            " 1   ZN      506 non-null    float64\n",
            " 2   INDUS   506 non-null    float64\n",
            " 3   CHAS    506 non-null    int64  \n",
            " 4   NOX     506 non-null    float64\n",
            " 5   RM      506 non-null    float64\n",
            " 6   AGE     506 non-null    float64\n",
            " 7   DIS     506 non-null    float64\n",
            " 8   RAD     506 non-null    int64  \n",
            " 9   TAX     506 non-null    int64  \n",
            " 10  PT      506 non-null    float64\n",
            " 11  B       506 non-null    float64\n",
            " 12  LSTAT   506 non-null    float64\n",
            " 13  MV      506 non-null    float64\n",
            "dtypes: float64(11), int64(3)\n",
            "memory usage: 55.5 KB\n"
          ]
        }
      ]
    },
    {
      "cell_type": "code",
      "source": [
        "spark = SparkSession.builder \\\n",
        "\t.master(master).appName(\"appName\").enableHiveSupport().getOrCreate()"
      ],
      "metadata": {
        "id": "uru0gZKGbo8c"
      },
      "execution_count": 6,
      "outputs": []
    },
    {
      "cell_type": "code",
      "source": [
        "spark"
      ],
      "metadata": {
        "colab": {
          "base_uri": "https://localhost:8080/",
          "height": 219
        },
        "id": "Ay29bL9sbtlt",
        "outputId": "696da769-ba47-4029-dba5-7dfa37bdd19d"
      },
      "execution_count": 7,
      "outputs": [
        {
          "output_type": "execute_result",
          "data": {
            "text/plain": [
              "<pyspark.sql.session.SparkSession at 0x7f1948246050>"
            ],
            "text/html": [
              "\n",
              "            <div>\n",
              "                <p><b>SparkSession - hive</b></p>\n",
              "                \n",
              "        <div>\n",
              "            <p><b>SparkContext</b></p>\n",
              "\n",
              "            <p><a href=\"http://b2bd079d7e83:4040\">Spark UI</a></p>\n",
              "\n",
              "            <dl>\n",
              "              <dt>Version</dt>\n",
              "                <dd><code>v3.3.0</code></dd>\n",
              "              <dt>Master</dt>\n",
              "                <dd><code>local</code></dd>\n",
              "              <dt>AppName</dt>\n",
              "                <dd><code>appName</code></dd>\n",
              "            </dl>\n",
              "        </div>\n",
              "        \n",
              "            </div>\n",
              "        "
            ]
          },
          "metadata": {},
          "execution_count": 7
        }
      ]
    },
    {
      "cell_type": "code",
      "source": [
        "df=spark.sql(\"show databases\")\n",
        "df.show()"
      ],
      "metadata": {
        "colab": {
          "base_uri": "https://localhost:8080/"
        },
        "id": "v2arXiImcDqf",
        "outputId": "2c620d3b-ad84-40f4-9655-86258b44fc88"
      },
      "execution_count": 8,
      "outputs": [
        {
          "output_type": "stream",
          "name": "stdout",
          "text": [
            "+---------+\n",
            "|namespace|\n",
            "+---------+\n",
            "|  default|\n",
            "+---------+\n",
            "\n"
          ]
        }
      ]
    },
    {
      "cell_type": "markdown",
      "source": [
        "#Q2. Read the data from Hive table as spark dataframe\n"
      ],
      "metadata": {
        "id": "E7LfUXYClXR4"
      }
    },
    {
      "cell_type": "code",
      "source": [
        "df=spark.read.option('header','true').csv('/content/drive/MyDrive/boston.csv',inferSchema=True)"
      ],
      "metadata": {
        "id": "Kat0KuSOcUHT"
      },
      "execution_count": 24,
      "outputs": []
    },
    {
      "cell_type": "code",
      "source": [
        "df.show()"
      ],
      "metadata": {
        "colab": {
          "base_uri": "https://localhost:8080/"
        },
        "id": "ymAqy1Jre9SQ",
        "outputId": "2b0a1cd2-bd6d-4526-aa27-4780af12a38e"
      },
      "execution_count": 10,
      "outputs": [
        {
          "output_type": "stream",
          "name": "stdout",
          "text": [
            "+-----------+----+-----------+----+-----------+-----------+-----------+-----------+---+---+-----------+-----------+-----------+-----------+\n",
            "|       CRIM|  ZN|      INDUS|CHAS|        NOX|         RM|        AGE|        DIS|RAD|TAX|         PT|          B|      LSTAT|         MV|\n",
            "+-----------+----+-----------+----+-----------+-----------+-----------+-----------+---+---+-----------+-----------+-----------+-----------+\n",
            "|    0.00632|18.0|2.309999943|   0|0.537999988|6.574999809|65.19999695|4.090000153|  1|296|15.30000019|396.8999939|4.980000019|       24.0|\n",
            "|0.027310001| 0.0|7.070000172|   0|0.469000012|6.421000004|78.90000153|4.967100143|  2|242|17.79999924|396.8999939|9.140000343|21.60000038|\n",
            "|    0.02729| 0.0|7.070000172|   0|0.469000012|7.184999943|61.09999847|4.967100143|  2|242|17.79999924|392.8299866| 4.03000021|34.70000076|\n",
            "|0.032370001| 0.0|2.180000067|   0|0.458000004|6.998000145|45.79999924|6.062200069|  3|222|18.70000076|394.6300049|2.940000057|33.40000153|\n",
            "|0.069049999| 0.0|2.180000067|   0|0.458000004|7.146999836|54.20000076|6.062200069|  3|222|18.70000076|396.8999939|5.329999924|36.20000076|\n",
            "|0.029850001| 0.0|2.180000067|   0|0.458000004|6.429999828|58.70000076|6.062200069|  3|222|18.70000076|394.1199951|5.210000038|28.70000076|\n",
            "|0.088289998|12.5|7.869999886|   0|0.523999989|6.012000084|66.59999847|5.560500145|  5|311|15.19999981|395.6000061|12.43000031|22.89999962|\n",
            "|0.144549996|12.5|7.869999886|   0|0.523999989|6.171999931|96.09999847|5.950500011|  5|311|15.19999981|396.8999939|19.14999962|27.10000038|\n",
            "|0.211239994|12.5|7.869999886|   0|0.523999989|5.631000042|      100.0|6.082099915|  5|311|15.19999981|386.6300049|29.93000031|       16.5|\n",
            "|0.170039997|12.5|7.869999886|   0|0.523999989|6.004000187|85.90000153|6.592100143|  5|311|15.19999981|386.7099915|17.10000038|18.89999962|\n",
            "|0.224889994|12.5|7.869999886|   0|0.523999989|6.376999855|94.30000305|6.346700191|  5|311|15.19999981| 392.519989|20.45000076|       15.0|\n",
            "|0.117470004|12.5|7.869999886|   0|0.523999989|6.008999825|82.90000153|6.226699829|  5|311|15.19999981|396.8999939|13.27000046|18.89999962|\n",
            "|0.093780003|12.5|7.869999886|   0|0.523999989|5.888999939|       39.0|5.450900078|  5|311|15.19999981|      390.5|15.71000004|21.70000076|\n",
            "|0.629760027| 0.0|8.140000343|   0|0.537999988|5.948999882|61.79999924|4.707499981|  4|307|       21.0|396.8999939|8.260000229|20.39999962|\n",
            "|0.637960017| 0.0|8.140000343|   0|0.537999988|6.096000195|       84.5|4.461900234|  4|307|       21.0| 380.019989|10.26000023|18.20000076|\n",
            "|0.627390027| 0.0|8.140000343|   0|0.537999988|5.834000111|       56.5|4.498600006|  4|307|       21.0|395.6199951|8.470000267|19.89999962|\n",
            "|1.053930044| 0.0|8.140000343|   0|0.537999988|5.934999943|29.29999924|4.498600006|  4|307|       21.0|386.8500061|6.579999924|23.10000038|\n",
            "|0.784200013| 0.0|8.140000343|   0|0.537999988|5.989999771|81.69999695|4.257900238|  4|307|       21.0|     386.75|14.67000008|       17.5|\n",
            "|0.802709997| 0.0|8.140000343|   0|0.537999988|5.455999851|36.59999847|3.796499968|  4|307|       21.0|288.9899902|11.68999958|20.20000076|\n",
            "|0.725799978| 0.0|8.140000343|   0|0.537999988|5.727000237|       69.5|3.796499968|  4|307|       21.0|390.9500122|11.27999973|18.20000076|\n",
            "+-----------+----+-----------+----+-----------+-----------+-----------+-----------+---+---+-----------+-----------+-----------+-----------+\n",
            "only showing top 20 rows\n",
            "\n"
          ]
        }
      ]
    },
    {
      "cell_type": "code",
      "source": [
        "df.printSchema()"
      ],
      "metadata": {
        "colab": {
          "base_uri": "https://localhost:8080/"
        },
        "id": "0g2Gw8AnfB_b",
        "outputId": "bb623b5f-63e7-4de4-c886-014c0fa35cac"
      },
      "execution_count": 11,
      "outputs": [
        {
          "output_type": "stream",
          "name": "stdout",
          "text": [
            "root\n",
            " |-- CRIM: double (nullable = true)\n",
            " |-- ZN: double (nullable = true)\n",
            " |-- INDUS: double (nullable = true)\n",
            " |-- CHAS: integer (nullable = true)\n",
            " |-- NOX: double (nullable = true)\n",
            " |-- RM: double (nullable = true)\n",
            " |-- AGE: double (nullable = true)\n",
            " |-- DIS: double (nullable = true)\n",
            " |-- RAD: integer (nullable = true)\n",
            " |-- TAX: integer (nullable = true)\n",
            " |-- PT: double (nullable = true)\n",
            " |-- B: double (nullable = true)\n",
            " |-- LSTAT: double (nullable = true)\n",
            " |-- MV: double (nullable = true)\n",
            "\n"
          ]
        }
      ]
    },
    {
      "cell_type": "markdown",
      "source": [
        "# Q3. Get the correlation between dependent and independent variables"
      ],
      "metadata": {
        "id": "IgiG8rMPjv4C"
      }
    },
    {
      "cell_type": "code",
      "source": [
        "import six\n",
        "for i in df.columns:\n",
        "    if not( isinstance(df.select(i).take(1)[0][0], six.string_types)):\n",
        "        print( \"Correlation to MV for \", i, df.stat.corr('MV',i))"
      ],
      "metadata": {
        "colab": {
          "base_uri": "https://localhost:8080/"
        },
        "id": "mAEXoXuhioPR",
        "outputId": "4e4df453-2eb4-4c66-94db-b6c857ff77aa"
      },
      "execution_count": 12,
      "outputs": [
        {
          "output_type": "stream",
          "name": "stdout",
          "text": [
            "Correlation to MV for  CRIM -0.3883046116575088\n",
            "Correlation to MV for  ZN 0.36044534463752903\n",
            "Correlation to MV for  INDUS -0.48372517128143383\n",
            "Correlation to MV for  CHAS 0.17526017775291847\n",
            "Correlation to MV for  NOX -0.4273207763683772\n",
            "Correlation to MV for  RM 0.695359937127267\n",
            "Correlation to MV for  AGE -0.37695456714288667\n",
            "Correlation to MV for  DIS 0.24992873873512172\n",
            "Correlation to MV for  RAD -0.3816262315669168\n",
            "Correlation to MV for  TAX -0.46853593528654536\n",
            "Correlation to MV for  PT -0.5077867038116085\n",
            "Correlation to MV for  B 0.3334608226834164\n",
            "Correlation to MV for  LSTAT -0.7376627294671615\n",
            "Correlation to MV for  MV 1.0\n"
          ]
        }
      ]
    },
    {
      "cell_type": "code",
      "source": [
        "from pyspark.ml.feature import VectorAssembler\n",
        "vectorAssembler = VectorAssembler(inputCols = ['CRIM', 'ZN', 'INDUS', 'CHAS', 'NOX', 'RM', 'AGE', 'DIS', 'RAD', 'TAX', 'PT', 'B', 'LSTAT'], outputCol = 'features')\n"
      ],
      "metadata": {
        "id": "3LI7vcdUj644"
      },
      "execution_count": 13,
      "outputs": []
    },
    {
      "cell_type": "code",
      "source": [
        "df1 = vectorAssembler.transform(df)"
      ],
      "metadata": {
        "id": "g38q4xZ3j9a8"
      },
      "execution_count": 14,
      "outputs": []
    },
    {
      "cell_type": "markdown",
      "source": [
        "# Q4. Build a linear regression model to predict house price"
      ],
      "metadata": {
        "id": "lSoRFJrVkTA3"
      }
    },
    {
      "cell_type": "code",
      "source": [
        "splits = df1.randomSplit([0.7, 0.3])\n",
        "train_df = splits[0]\n",
        "test_df = splits[1]"
      ],
      "metadata": {
        "id": "sTjv9BzwkUlt"
      },
      "execution_count": 15,
      "outputs": []
    },
    {
      "cell_type": "code",
      "source": [
        "from pyspark.ml.regression import LinearRegression\n",
        "lr = LinearRegression(featuresCol = 'features', labelCol='MV', maxIter=10, regParam=0.3, elasticNetParam=0.8)\n",
        "lr_model = lr.fit(train_df)\n",
        "print(\"Coefficients: \" + str(lr_model.coefficients))\n",
        "print(\"Intercept: \" + str(lr_model.intercept))"
      ],
      "metadata": {
        "colab": {
          "base_uri": "https://localhost:8080/"
        },
        "id": "Ky1bndtakcmZ",
        "outputId": "8e1fbe55-d2a1-484d-c221-c2acd1e027a8"
      },
      "execution_count": 16,
      "outputs": [
        {
          "output_type": "stream",
          "name": "stdout",
          "text": [
            "Coefficients: [-0.043530258212475144,0.0,-0.01822690203057224,1.2848866908936603,-7.346598467968144,5.110374360093858,0.0,-0.5817889396040057,0.0,-0.004347981340920702,-0.8451841840268647,0.006983489236734514,-0.37541195852286596]\n",
            "Intercept: 16.379321259831173\n"
          ]
        }
      ]
    },
    {
      "cell_type": "markdown",
      "source": [
        "# Q5. Evaluate the Linear Regression model by getting the RMSE and R-squared values"
      ],
      "metadata": {
        "id": "X5CDRK7Lkhaz"
      }
    },
    {
      "cell_type": "code",
      "source": [
        "trainingSummary = lr_model.summary\n",
        "print(\"RMSE: %f\" % trainingSummary.rootMeanSquaredError)\n",
        "print(\"r2: %f\" % trainingSummary.r2)"
      ],
      "metadata": {
        "colab": {
          "base_uri": "https://localhost:8080/"
        },
        "id": "PC5nynoAkh26",
        "outputId": "d3c2c6c1-0296-40f0-acfc-ef35dbbb6f3f"
      },
      "execution_count": 17,
      "outputs": [
        {
          "output_type": "stream",
          "name": "stdout",
          "text": [
            "RMSE: 4.243667\n",
            "r2: 0.778388\n"
          ]
        }
      ]
    },
    {
      "cell_type": "code",
      "source": [
        "train_df.describe().show()"
      ],
      "metadata": {
        "colab": {
          "base_uri": "https://localhost:8080/"
        },
        "id": "T5JUeNRekr-a",
        "outputId": "080d457d-6115-4267-83c2-b5bca3f021d0"
      },
      "execution_count": 18,
      "outputs": [
        {
          "output_type": "stream",
          "name": "stdout",
          "text": [
            "+-------+------------------+------------------+-----------------+------------------+-------------------+------------------+-----------------+------------------+-----------------+------------------+-----------------+------------------+------------------+------------------+\n",
            "|summary|              CRIM|                ZN|            INDUS|              CHAS|                NOX|                RM|              AGE|               DIS|              RAD|               TAX|               PT|                 B|             LSTAT|                MV|\n",
            "+-------+------------------+------------------+-----------------+------------------+-------------------+------------------+-----------------+------------------+-----------------+------------------+-----------------+------------------+------------------+------------------+\n",
            "|  count|               362|               362|              362|               362|                362|               362|              362|               362|              362|               362|              362|               362|               362|               362|\n",
            "|   mean|3.5446414778121533|11.208563535911603|10.99756914577624|0.0718232044198895| 0.5523002779585635| 6.298046962997242|68.28508286335637| 3.814906913629837|  9.4060773480663| 407.0193370165746|18.40000022883977|353.10894836954475|12.679723743872923|22.409944813453038|\n",
            "| stddev| 8.622348221476562|22.704838798283998|6.833576886839338| 0.258552312495225|0.11658915259842621|0.7026907575032625| 28.0580009346613|2.0852089462483647|8.589323178156741|167.66270771570518|2.167463002610303| 96.83026942271712| 7.125871468229519|  9.02703305201488|\n",
            "|    min|           0.00906|               0.0|       0.74000001|                 0|         0.38499999|       3.862999916|      2.900000095|       1.136999965|                1|               188|      12.60000038|       0.319999993|       1.730000019|               5.0|\n",
            "|    max|       88.97619629|             100.0|      27.73999977|                 1|        0.870999992|       8.779999733|            100.0|       10.71030045|               24|               711|             22.0|       396.8999939|       37.97000122|              50.0|\n",
            "+-------+------------------+------------------+-----------------+------------------+-------------------+------------------+-----------------+------------------+-----------------+------------------+-----------------+------------------+------------------+------------------+\n",
            "\n"
          ]
        }
      ]
    },
    {
      "cell_type": "code",
      "source": [
        "lr_predictions = lr_model.transform(test_df)\n",
        "lr_predictions.select(\"prediction\",\"MV\",\"features\").show(5)\n",
        "from pyspark.ml.evaluation import RegressionEvaluator\n",
        "lr_evaluator = RegressionEvaluator(predictionCol=\"prediction\", \\\n",
        "                 labelCol=\"MV\",metricName=\"r2\")\n",
        "print(\"R Squared (R2) on test data = %g\" % lr_evaluator.evaluate(lr_predictions))"
      ],
      "metadata": {
        "colab": {
          "base_uri": "https://localhost:8080/"
        },
        "id": "avxiAu8xksae",
        "outputId": "1ef4c667-bef8-472e-ba7e-58efb02436db"
      },
      "execution_count": 19,
      "outputs": [
        {
          "output_type": "stream",
          "name": "stdout",
          "text": [
            "+------------------+-----------+--------------------+\n",
            "|        prediction|         MV|            features|\n",
            "+------------------+-----------+--------------------+\n",
            "| 30.28954032965682|       24.0|[0.00632,18.0,2.3...|\n",
            "|30.229154019432812|35.40000153|[0.01311,90.0,1.2...|\n",
            "|38.586833122870914|       50.0|[0.01381,80.0,0.4...|\n",
            "|26.471504284588185|30.10000038|[0.01709,90.0,2.0...|\n",
            "| 30.29808543378417|32.90000153|[0.01778,95.0,1.4...|\n",
            "+------------------+-----------+--------------------+\n",
            "only showing top 5 rows\n",
            "\n",
            "R Squared (R2) on test data = 0.543424\n"
          ]
        }
      ]
    },
    {
      "cell_type": "code",
      "source": [
        "test_result = lr_model.evaluate(test_df)\n",
        "print(\"Root Mean Squared Error (RMSE) on test data = %g\" % test_result.rootMeanSquaredError)"
      ],
      "metadata": {
        "colab": {
          "base_uri": "https://localhost:8080/"
        },
        "id": "Eyz4Ixp6kvPO",
        "outputId": "b9dff247-98d7-4b54-b66a-7e3c03de2d90"
      },
      "execution_count": 20,
      "outputs": [
        {
          "output_type": "stream",
          "name": "stdout",
          "text": [
            "Root Mean Squared Error (RMSE) on test data = 6.48899\n"
          ]
        }
      ]
    },
    {
      "cell_type": "code",
      "source": [
        "print(\"numIterations: %d\" % trainingSummary.totalIterations)\n",
        "print(\"objectiveHistory: %s\" % str(trainingSummary.objectiveHistory))\n",
        "trainingSummary.residuals.show()"
      ],
      "metadata": {
        "colab": {
          "base_uri": "https://localhost:8080/"
        },
        "id": "y7keOAZ5k4EO",
        "outputId": "4c2a8e76-46ad-4179-a785-e7c4ea505634"
      },
      "execution_count": 21,
      "outputs": [
        {
          "output_type": "stream",
          "name": "stdout",
          "text": [
            "numIterations: 10\n",
            "objectiveHistory: [0.5, 0.4272399962663321, 0.2047649174485246, 0.18156620696863232, 0.15168886183481112, 0.14999518317887792, 0.1495172124977353, 0.1490054463133159, 0.14870360886947068, 0.1486626313744547, 0.14848991743841428]\n",
            "+-------------------+\n",
            "|          residuals|\n",
            "+-------------------+\n",
            "| 1.2037748540520994|\n",
            "| -5.637116623657008|\n",
            "|0.32602862920415276|\n",
            "| 2.4318594727885348|\n",
            "| 0.8902078837428249|\n",
            "|-1.0590092717455803|\n",
            "|-2.5949915161168633|\n",
            "|  9.018416397728451|\n",
            "|   9.14666696749071|\n",
            "|  5.700751452760699|\n",
            "|-1.0688490762035023|\n",
            "| 10.400107132778487|\n",
            "|-0.5501235172245202|\n",
            "|0.06728561700109381|\n",
            "|  2.934126456399717|\n",
            "|  -4.37161504776406|\n",
            "|  2.480839819619135|\n",
            "|-1.1830206384181494|\n",
            "| 0.6460393994252165|\n",
            "| -1.604945716074404|\n",
            "+-------------------+\n",
            "only showing top 20 rows\n",
            "\n"
          ]
        }
      ]
    },
    {
      "cell_type": "code",
      "source": [
        "predictions = lr_model.transform(test_df)\n",
        "predictions.select(\"prediction\",\"MV\",\"features\").show()"
      ],
      "metadata": {
        "colab": {
          "base_uri": "https://localhost:8080/"
        },
        "id": "xVkv25rrk8qf",
        "outputId": "7e3481c1-36a9-4f99-c5e2-522f42232f1e"
      },
      "execution_count": 22,
      "outputs": [
        {
          "output_type": "stream",
          "name": "stdout",
          "text": [
            "+------------------+-----------+--------------------+\n",
            "|        prediction|         MV|            features|\n",
            "+------------------+-----------+--------------------+\n",
            "| 30.28954032965682|       24.0|[0.00632,18.0,2.3...|\n",
            "|30.229154019432812|35.40000153|[0.01311,90.0,1.2...|\n",
            "|38.586833122870914|       50.0|[0.01381,80.0,0.4...|\n",
            "|26.471504284588185|30.10000038|[0.01709,90.0,2.0...|\n",
            "| 30.29808543378417|32.90000153|[0.01778,95.0,1.4...|\n",
            "|  25.1826024227356|23.10000038|[0.0187,85.0,4.15...|\n",
            "|36.190963620724716|42.29999924|[0.02177,82.5,2.0...|\n",
            "| 26.51677372465162|       16.5|[0.024979999,0.0,...|\n",
            "|27.230051776051972|23.89999962|[0.025429999,55.0...|\n",
            "|26.332570097090798|28.70000076|[0.029850001,0.0,...|\n",
            "|31.389646649251134|34.90000153|[0.03359,75.0,2.9...|\n",
            "| 20.49516507242332|       19.5|[0.03427,0.0,5.19...|\n",
            "|29.582393469661096|       28.5|[0.035020001,80.0...|\n",
            "| 38.34070072869348|       48.5|[0.035100002,95.0...|\n",
            "| 27.63598491846548|       23.5|[0.035840001,80.0...|\n",
            "| 23.12730569962929|20.70000076|[0.037379999,0.0,...|\n",
            "|27.107709958224117|       22.0|[0.03932,0.0,3.41...|\n",
            "|24.765886977589716|20.60000038|[0.042939998,28.0...|\n",
            "|26.319371592156912|24.79999924|[0.042970002,52.5...|\n",
            "| 15.69483334917289|18.20000076|[0.04301,80.0,1.9...|\n",
            "+------------------+-----------+--------------------+\n",
            "only showing top 20 rows\n",
            "\n"
          ]
        }
      ]
    },
    {
      "cell_type": "code",
      "source": [
        "from pyspark.ml.regression import DecisionTreeRegressor\n",
        "dt = DecisionTreeRegressor(featuresCol ='features', labelCol = 'MV')\n",
        "dt_model = dt.fit(train_df)\n",
        "dt_predictions = dt_model.transform(test_df)\n",
        "dt_evaluator = RegressionEvaluator(\n",
        "    labelCol=\"MV\", predictionCol=\"prediction\", metricName=\"rmse\")\n",
        "rmse = dt_evaluator.evaluate(dt_predictions)\n",
        "print(\"Root Mean Squared Error (RMSE) on test data = %g\" % rmse)"
      ],
      "metadata": {
        "colab": {
          "base_uri": "https://localhost:8080/"
        },
        "id": "PouIYtOok_bB",
        "outputId": "7b91572e-0bc0-43e4-93ed-7f2a8b4e3a1a"
      },
      "execution_count": 23,
      "outputs": [
        {
          "output_type": "stream",
          "name": "stdout",
          "text": [
            "Root Mean Squared Error (RMSE) on test data = 5.58283\n"
          ]
        }
      ]
    },
    {
      "cell_type": "code",
      "source": [
        ""
      ],
      "metadata": {
        "id": "ePnkw_69lCCz"
      },
      "execution_count": null,
      "outputs": []
    }
  ]
}